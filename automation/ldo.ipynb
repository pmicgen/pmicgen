{
 "cells": [
  {
   "cell_type": "markdown",
   "metadata": {},
   "source": [
    "# Automated generation of an LDO for SKY130"
   ]
  },
  {
   "cell_type": "markdown",
   "metadata": {},
   "source": [
    "## 1. Team members"
   ]
  },
  {
   "cell_type": "markdown",
   "metadata": {},
   "source": [
    "|Name|Affiliation|IEEE Member|SSCS Member|\n",
    "|:--:|:----------:|:----------:|:----------:|\n",
    "| Jorge Marín (Team Coordinator, Postdoctoral Fellow) <br /> Email ID: jorge.marinn@usm.cl|AC3E (Chile)| Yes | Yes |\n",
    "| Christian Rojas (Professor Advisor) <br /> Email ID: c.a.rojas@ieee.org|AC3E, Universidad Técnica Federico Santa María (Chile)| Yes | -- |\n",
    "| Mario Romero (Undergraduate Student) |AC3E, Universidad Técnica Federico Santa María (Chile)| Yes |Yes|\n",
    "| Daniel Arevalos (Master Student) |AC3E, Universidad Técnica Federico Santa María (Chile)| -- | -- |"
   ]
  },
  {
   "cell_type": "markdown",
   "metadata": {},
   "source": [
    "## 2. Abstract"
   ]
  },
  {
   "cell_type": "markdown",
   "metadata": {},
   "source": []
  },
  {
   "cell_type": "markdown",
   "metadata": {},
   "source": [
    "## 3. Introduction"
   ]
  },
  {
   "cell_type": "markdown",
   "metadata": {},
   "source": []
  },
  {
   "cell_type": "markdown",
   "metadata": {},
   "source": [
    "## 4. About the notebook"
   ]
  },
  {
   "cell_type": "markdown",
   "metadata": {},
   "source": []
  },
  {
   "cell_type": "markdown",
   "metadata": {},
   "source": [
    "## 5. Tools and dependencies"
   ]
  },
  {
   "cell_type": "markdown",
   "metadata": {},
   "source": [
    "The following block install `pmicgen`, which is the coommand line interface that contains all the automated generation logic necessary for this project."
   ]
  },
  {
   "cell_type": "code",
   "execution_count": null,
   "metadata": {},
   "outputs": [],
   "source": [
    "from git import Repo\n",
    "if 'google.colab' in str(get_ipython()):\n",
    "    print(\"Google Colab Installation\")\n",
    "    repo_url = 'https://github.com/Mario1159/LDO_CAC.git'\n",
    "    Repo.clone_from(repo_url, \"PMIC_CAC\")\n",
    "    %cd PMIC_CAC\n",
    "    python setup.py\n",
    "    raise NotImplementedError()\n",
    "else:\n",
    "    print(\"Local Installation\")\n",
    "    python setup.py install"
   ]
  },
  {
   "cell_type": "markdown",
   "metadata": {},
   "source": [
    "## 6. Design and implementation"
   ]
  },
  {
   "cell_type": "markdown",
   "metadata": {},
   "source": []
  },
  {
   "cell_type": "markdown",
   "metadata": {},
   "source": [
    "### Generation Quick Example "
   ]
  },
  {
   "cell_type": "code",
   "execution_count": null,
   "metadata": {},
   "outputs": [],
   "source": [
    "!pmicgen pmic --yaml example/sky130_pmic.yaml\n",
    "import gdsfactory as gf\n",
    "pmic = gf.read_gds(\"build/pmic/gds/pmic.gds\")\n",
    "gf.plot(pmic)"
   ]
  },
  {
   "cell_type": "markdown",
   "metadata": {},
   "source": [
    "## 7. LUT generation"
   ]
  },
  {
   "cell_type": "markdown",
   "metadata": {},
   "source": []
  },
  {
   "cell_type": "code",
   "execution_count": null,
   "metadata": {
    "vscode": {
     "languageId": "plaintext"
    }
   },
   "outputs": [],
   "source": []
  },
  {
   "cell_type": "markdown",
   "metadata": {},
   "source": [
    "## 8. OTA operation point calculation"
   ]
  },
  {
   "cell_type": "markdown",
   "metadata": {},
   "source": []
  },
  {
   "cell_type": "code",
   "execution_count": null,
   "metadata": {
    "vscode": {
     "languageId": "plaintext"
    }
   },
   "outputs": [],
   "source": []
  },
  {
   "cell_type": "markdown",
   "metadata": {},
   "source": [
    "## 9. Specs to device size"
   ]
  },
  {
   "cell_type": "markdown",
   "metadata": {},
   "source": [
    "TODO: Explanation of the procedure"
   ]
  },
  {
   "cell_type": "code",
   "execution_count": null,
   "metadata": {},
   "outputs": [],
   "source": [
    "!pmicgen pmic_specs <specs>"
   ]
  },
  {
   "cell_type": "markdown",
   "metadata": {},
   "source": [
    "## 10. Bandgap Reference"
   ]
  },
  {
   "cell_type": "markdown",
   "metadata": {},
   "source": [
    "### Generation\n",
    "The following command outputs the design files at `build/sky130_bgr`"
   ]
  },
  {
   "cell_type": "code",
   "execution_count": null,
   "metadata": {
    "vscode": {
     "languageId": "shellscript"
    }
   },
   "outputs": [],
   "source": [
    "pmicgen bgr --tech sky130"
   ]
  },
  {
   "cell_type": "markdown",
   "metadata": {},
   "source": [
    "### Layout"
   ]
  },
  {
   "cell_type": "code",
   "execution_count": null,
   "metadata": {},
   "outputs": [],
   "source": [
    "import gdsfactory as gf\n",
    "pmosw: gf.Component = gf.read_gds(\"build/sky130_pmosw/pmosw.gds\")\n",
    "gf.plot(pmosw)"
   ]
  },
  {
   "cell_type": "markdown",
   "metadata": {},
   "source": [
    "## 11. Common Centroid Resistance"
   ]
  },
  {
   "cell_type": "markdown",
   "metadata": {},
   "source": [
    "### Generation\n",
    "The following command outputs the design files at `build/sky130_ccres`"
   ]
  },
  {
   "cell_type": "code",
   "execution_count": null,
   "metadata": {
    "vscode": {
     "languageId": "shellscript"
    }
   },
   "outputs": [],
   "source": [
    "pmicgen ccres --tech sky130 --ratio 0.6 --row 5 --col 5"
   ]
  },
  {
   "cell_type": "markdown",
   "metadata": {},
   "source": [
    "### Layout"
   ]
  },
  {
   "cell_type": "code",
   "execution_count": null,
   "metadata": {},
   "outputs": [],
   "source": [
    "import gdsfactory as gf\n",
    "pmosw: gf.Component = gf.read_gds(\"build/sky130_pmosw/pmosw.gds\")\n",
    "gf.plot(pmosw)"
   ]
  },
  {
   "cell_type": "markdown",
   "metadata": {},
   "source": [
    "### Schematic Simulation"
   ]
  },
  {
   "cell_type": "code",
   "execution_count": null,
   "metadata": {},
   "outputs": [],
   "source": [
    "import pandas as pd\n",
    "df = pd.read_csv('build/sky130_ccres/ngspice/pre_tb/iv.csv',\n",
    "    delim_whitespace=True,\n",
    "    header=None,\n",
    "    names['i', 'v'])\n",
    "plt.figure(figsize=(10, 6))\n",
    "plt.plot(df['ids'], df['vds'], marker='o', linestyle='-')\n",
    "plt.title('ids vs vds')\n",
    "plt.xlabel('ids')\n",
    "plt.ylabel('vds')\n",
    "plt.grid(True)\n",
    "plt.show()"
   ]
  },
  {
   "cell_type": "markdown",
   "metadata": {},
   "source": [
    "### Post Layout Simualtion"
   ]
  },
  {
   "cell_type": "code",
   "execution_count": null,
   "metadata": {},
   "outputs": [],
   "source": [
    "import pandas as pd\n",
    "df = pd.read_csv('build/sky130_ccres/ngspice/post_tb/iv.csv',\n",
    "    delim_whitespace=True,\n",
    "    header=None,\n",
    "    names['i', 'v'])\n",
    "plt.figure(figsize=(10, 6))\n",
    "plt.plot(df['ids'], df['vds'], marker='o', linestyle='-')\n",
    "plt.title('ids vs vds')\n",
    "plt.xlabel('ids')\n",
    "plt.ylabel('vds')\n",
    "plt.grid(True)\n",
    "plt.show()"
   ]
  },
  {
   "cell_type": "markdown",
   "metadata": {},
   "source": [
    "## 12. Waffle Transistor"
   ]
  },
  {
   "cell_type": "markdown",
   "metadata": {},
   "source": [
    "### Generation\n",
    "The following command outputs the design files at `build/sky130_pmosw`\n",
    "\n",
    "Keep in mind that the multiplicty scales into discretes values, so an albitrary value will be approximated "
   ]
  },
  {
   "cell_type": "code",
   "execution_count": null,
   "metadata": {
    "vscode": {
     "languageId": "shellscript"
    }
   },
   "outputs": [],
   "source": [
    "pmicgen pmosw --tech sky130 --mult 4512"
   ]
  },
  {
   "cell_type": "markdown",
   "metadata": {},
   "source": [
    "### Layout"
   ]
  },
  {
   "cell_type": "code",
   "execution_count": null,
   "metadata": {},
   "outputs": [],
   "source": [
    "import gdsfactory as gf\n",
    "pmosw: gf.Component = gf.read_gds(\"build/sky130_pmosw/gds/pmosw.gds\")\n",
    "gf.plot(pmosw)"
   ]
  },
  {
   "cell_type": "markdown",
   "metadata": {},
   "source": [
    "### Schematic Simulation"
   ]
  },
  {
   "cell_type": "code",
   "execution_count": null,
   "metadata": {},
   "outputs": [],
   "source": [
    "# pmicgen should run this by default for testing purpose\n",
    "# !ngspice build/sky130_pmosw/ngspice/tb_id_vds.spice\n",
    "import pandas as pd\n",
    "df = pd.read_csv('build/sky130_pmosw/ngspice/pre_tb/id_vds.csv',\n",
    "    delim_whitespace=True,\n",
    "    header=None,\n",
    "    names['t', 'id', 'vds'])\n",
    "plt.figure(figsize=(10, 6))\n",
    "plt.plot(df['ids'], df['vds'], marker='o', linestyle='-')\n",
    "plt.title('ids vs vds')\n",
    "plt.xlabel('ids')\n",
    "plt.ylabel('vds')\n",
    "plt.grid(True)\n",
    "plt.show()"
   ]
  },
  {
   "cell_type": "markdown",
   "metadata": {},
   "source": [
    "### Post-Layout Simulation"
   ]
  },
  {
   "cell_type": "code",
   "execution_count": null,
   "metadata": {},
   "outputs": [],
   "source": [
    "import pandas as pd\n",
    "df = pd.read_csv('build/sky130_pmosw/ngspice/post_tb/id_vds.csv',\n",
    "    delim_whitespace=True,\n",
    "    header=None,\n",
    "    names['t', 'id', 'vds'])\n",
    "plt.figure(figsize=(10, 6))\n",
    "plt.plot(df['ids'], df['vds'], marker='o', linestyle='-')\n",
    "plt.title('ids vs vds')\n",
    "plt.xlabel('ids')\n",
    "plt.ylabel('vds')\n",
    "plt.grid(True)\n",
    "plt.show()"
   ]
  },
  {
   "cell_type": "markdown",
   "metadata": {},
   "source": [
    "## 13. Low Drop Regulator"
   ]
  },
  {
   "cell_type": "markdown",
   "metadata": {},
   "source": [
    "### Generation\n",
    "The following commands outputs the design files at `build/sky130_ldo`\n",
    "\n",
    "This desig can be generatede either through a list of specs or through the components generated previously"
   ]
  },
  {
   "cell_type": "code",
   "execution_count": null,
   "metadata": {
    "vscode": {
     "languageId": "shellscript"
    }
   },
   "outputs": [],
   "source": [
    "pmicgen ldo --specs build/specs/ldo_specs.yaml"
   ]
  },
  {
   "cell_type": "code",
   "execution_count": null,
   "metadata": {
    "vscode": {
     "languageId": "shellscript"
    }
   },
   "outputs": [],
   "source": [
    "pmicgen ldo                    \\\n",
    "    --tech  sky130             \\\n",
    "    --bgr   build/sky130_bgr   \\\n",
    "    --ccres build/sky130_ccres \\\n",
    "    --pmosw build/sky130_pmow  \\\n",
    "    --ota   build/sky130_ota   \\"
   ]
  },
  {
   "cell_type": "markdown",
   "metadata": {},
   "source": [
    "## 14. 3 - Level Flying Capacitor Converter"
   ]
  },
  {
   "cell_type": "markdown",
   "metadata": {},
   "source": [
    "### Generation\n",
    "The following command outputs the design files at `build/sky130_3lfccc`"
   ]
  },
  {
   "cell_type": "code",
   "execution_count": null,
   "metadata": {
    "vscode": {
     "languageId": "shellscript"
    }
   },
   "outputs": [],
   "source": [
    "pmicgen 3lfcc --tech sky130"
   ]
  },
  {
   "cell_type": "markdown",
   "metadata": {},
   "source": [
    "## 15. PMIC"
   ]
  },
  {
   "cell_type": "markdown",
   "metadata": {},
   "source": [
    "### Generation\n",
    "The following command outputs the designs files at `build/sky130_pmic`"
   ]
  },
  {
   "cell_type": "code",
   "execution_count": null,
   "metadata": {
    "vscode": {
     "languageId": "shellscript"
    }
   },
   "outputs": [],
   "source": []
  },
  {
   "cell_type": "markdown",
   "metadata": {},
   "source": [
    "## 15. Conclusion"
   ]
  },
  {
   "cell_type": "markdown",
   "metadata": {},
   "source": []
  }
 ],
 "metadata": {
  "language_info": {
   "name": "python"
  }
 },
 "nbformat": 4,
 "nbformat_minor": 2
}
