{
 "cells": [
  {
   "cell_type": "markdown",
   "metadata": {},
   "source": [
    "# Automated generation of a PMIC Core for SKY130"
   ]
  },
  {
   "cell_type": "markdown",
   "metadata": {
    "jp-MarkdownHeadingCollapsed": true
   },
   "source": [
    "> &copy; AC3E Microelectronics Team, 2024, SPDX-License-Identifier: LGPL-3.0-or-later\n",
    "</br>\n",
    "\n",
    "#### Team Members \n",
    "\n",
    "|Name|Affiliation|IEEE Member|SSCS Member|\n",
    "|:--:|:----------:|:----------:|:----------:|\n",
    "| Jorge Marín (Team Coordinator, Postdoctoral Fellow) <br /> Email ID: jorge.marinn@usm.cl|AC3E (Chile)| Yes |Yes|\n",
    "| Christian Rojas (Professor Advisor) <br /> Email ID: c.a.rojas@ieee.org|AC3E, Universidad Técnica Federico Santa María (Chile)| Yes |No|\n",
    "| Daniel Arevalos (Master Student) <br /> Email ID: daniel.arevalos@sansano.usm.cl|AC3E, Universidad Técnica Federico Santa María (Chile)| Yes |No|\n",
    "| Mario Romero (Undergraduate Student) <br /> Email ID: mario.romeron@usm.cl|AC3E, Universidad Técnica Federico Santa María (Chile)| Yes |No|"
   ]
  },
  {
   "cell_type": "markdown",
   "metadata": {},
   "source": [
    "## Abstract\n",
    "\n",
    "This Jupyter Notebook aims to automate the design of a DC-DC\n",
    "converter power stage and a series low dropout (LDO) linear voltage regulator targeting the highly efficient generation of a parametrized regulated supply voltage from a given power source (e.g. 5V to 3V DC-DC conversion). This includes the automatic layout generation of both building blocks on the system specifications. The power supply chain has been designed using the Skywater 130nm technology and open-source design tools. Firstly, the power stage is realized using an automated flow which\n",
    "considers the output current, the output voltage, the operating frequency and the maximum area as main constraints entered by the user. Afterwards, the LDO is designed based on the provided specifications: "
   ]
  },
  {
   "cell_type": "markdown",
   "metadata": {},
   "source": [
    "## Introduction"
   ]
  },
  {
   "cell_type": "markdown",
   "metadata": {},
   "source": [
    "Power management is an unavoidable concern in application-specific integrated circuits (ASIC) design projects. The importance of power considerations gets even more critical when we consider future edge devices for the Internet of Things (IoT), such as an energy-autonomous node with energy harvesting capabilities and analog, mixed signal and digital on-chip function blocks.\n",
    "The most challenging part of the power management system are the blocks downstream towards the function blocks, namely the DC-DC converters and the LDOs (Fig. 1). In previous works, this problem has been considered by eliminating the LDO and replacing it by an active filter [1] or by considering different DC-DC-LDO on-chip or off-chip configurations, depending on the operation requirements.\n",
    "In this Jupyter Notebook, we focus on the on-chip realization of the DC-DC-LDO series connection, centering our analysis on the generation of a custom design of an efficient and compact PMIC core using the Skywater 130nm (SKY130) open-source CMOS technology.\n",
    "\n",
    "![](https://media.githubusercontent.com/media/pmicgen/pmicgen/main/.github/figures/block_diagram.png)\n",
    "\n",
    "[Fig. 1: Block diagram of the DC-DC in series with an LDO system studied in this work [3].]\n",
    "\n",
    "This notebook aims to implement the followng innovations:\n",
    "\n",
    "1. A simplified implementation of a LUT-based LDO automated design proposed in [4] using the SKY130 technology\n",
    "2. The integration of existing IP building blocks designed by the opensource community into a unified flow for the specs-to-GDS generation of an LDO\n",
    "3. The use of layout automation tools/flows (such as ALIGN and GDSfactory) to produce DRC-verified layout of the LDO block\n",
    "4. The automated design of a DC-DC conversion power stage, based on our previous work [5]\n",
    "5. The integration of the PMIC core consisting of a DC-DC-LDO connection into a unified flow for spec-to-GDS generation and design space exploration [WORK IN PROGRESS]\n"
   ]
  },
  {
   "cell_type": "markdown",
   "metadata": {},
   "source": [
    "## PMIC core operating principle\n",
    "\n",
    "Robust power delivery systems must ensure stable voltages at specified load currents, incorporating sufficient regulation capabilities to enable the reliable operation of digital, analog, mixed-signal, and radio-frequency (RF) function blocks. In modern applications, the full integration of these solutions result in compact and low-cost systems with high efficiency and robustness.\n",
    "\n",
    "Traditionally, power management integrated circuits (PMICs) employ two types of regulators: DC-DC converters (also known as switching regulators) and low-dropout (LDO) linear regulators. Efficient switching DC-DC converters allow large input-output conversion ratios at the cost of large chip area and considerable output ripple, generating the need to use large passive components which are not compatible with integration in order to mitigate this effect. Placing these components off chip decreases the efficiency due to parasitic capacitances and power losses introduced by packaging, bonding and PCB traces. On the other hand, compact linear regulators can achieve low ripple at the expense of low efficiency, which degrades as the dropout voltage increases.\n",
    "\n",
    "Lately, heterogeneous integration approaches have been proposed with series and cascaded DC-DC and LDO blocks to generate multiple regulated voltage domains [2]. DC-DC circuits are placed close to the energy source to perform voltage conversion using large ratios. Complementary, LDOs are placed locally, close to the function blocks, to provide regulated voltage with a low dropout to enhance the efficiency of the power management system, allowing supply-sensitive circuits to operate correctly [6].\n",
    "\n",
    "Design automation is a powerful tool which can help to decrease the design effort of complex integrated circuits in a myriad of scenarios. In the case of power circuits, a holistic analysis of efficiency and interference in a multi-channel regulated voltage network and a subsequent synthesis of the physical implementation based on a set of specifications can be of great help in the design of high-performance and low-power ASICs. This is the final aim of our current ongoing work."
   ]
  },
  {
   "cell_type": "markdown",
   "metadata": {},
   "source": [
    "## About the notebook\n",
    "The presented Jupyter Notebook is summarized in Fig. 2.\n",
    "\n",
    "![](https://media.githubusercontent.com/media/pmicgen/pmicgen/main/.github/figures/flow.svg)\n",
    "\n",
    "[Fig. 2: This Jupyter Notebook's block diagram.]"
   ]
  },
  {
   "cell_type": "markdown",
   "metadata": {},
   "source": [
    "## 1. Tools and dependencies"
   ]
  },
  {
   "cell_type": "markdown",
   "metadata": {},
   "source": [
    "The logic used in this project is contained in the `pmicgen` command line interface utility, which can be installed with using `pip install` according to the `setup.py` package settings. Aside from this tool is necessary some open-source IC development tools to run simulations and view reports generated by the `pmicgen` utility. This extra set of tools are installed via `conda` through the `environment.yml` file.\n",
    "\n"
   ]
  },
  {
   "cell_type": "markdown",
   "metadata": {},
   "source": [
    "### 1.1 Google Colab Installation\n",
    "To install the conda environment in Google Colab execute the following code block.\n"
   ]
  },
  {
   "cell_type": "code",
   "execution_count": null,
   "metadata": {},
   "outputs": [],
   "source": [
    "if 'google.colab' in str(get_ipython()):\n",
    "    # Removes CFFI to avoid future conflicts between condacolab's package\n",
    "    # and the debian CFFI precompiled binaries that comes with Colab\n",
    "    %pip uninstall -q -y cffi\n",
    "    %pip install -q condacolab\n",
    "    import condacolab\n",
    "    condacolab.install()"
   ]
  },
  {
   "cell_type": "markdown",
   "metadata": {},
   "source": [
    "> The Python kernel needs to be restarted for changes to be applied. This happens automatically.\n",
    "If you are wondering why you are seeing a message saying \"Your session crashed for an unknown reason\", this is why. \n",
    "You can safely ignore this message!\n",
    "\n",
    "Now you can clone the repository and install `pmicgen` running the next code block:\n",
    "\n",
    "> Be patient, the installation takes about 15 minutes in Colab"
   ]
  },
  {
   "cell_type": "code",
   "execution_count": null,
   "metadata": {},
   "outputs": [],
   "source": [
    "# Clone the precompiled optimization library interface to reduce the total installation time\n",
    "%cd /content\n",
    "!git clone --quiet https://github.com/ALIGN-analoglayout/ILPSolverInterface\n",
    "%env ALIGN_ILP_PATH=/content/ILPSolverInterface/manylinux_2_28_x86_64\n",
    "\n",
    "# Clone the pmicgen repository and extract the look-up table\n",
    "!git clone --quiet --recursive https://github.com/pmicgen/pmicgen\n",
    "!git clone https://github.com/efabless/mpw_precheck\n",
    "%cd /content/pmicgen\n",
    "!unzip -q analysis/sky130A_LUT.npz\n",
    "\n",
    "# Install pmicgen and its environment\n",
    "!mamba env update -q -n base -f env/environment.yml\n",
    "%pip install -q --progress-bar off ."
   ]
  },
  {
   "cell_type": "markdown",
   "metadata": {},
   "source": [
    "> The step above can generate warnings about core dependencies being updated, Colab suggests a restart though a pop-up, however this warning can be safely ignored and cancelled, just make sure the installation is finished if you select to restart the environment.\n",
    "\n",
    "After the environment is set up, the SKY130 PDK can be installed though volare."
   ]
  },
  {
   "cell_type": "code",
   "execution_count": null,
   "metadata": {},
   "outputs": [],
   "source": [
    "%env PDK_ROOT=/root/.volare\n",
    "%env PDK=sky130A\n",
    "# Install the latest SKY130 PDK version\n",
    "!volare enable $(volare ls-remote | sed -n '1 p')"
   ]
  },
  {
   "cell_type": "markdown",
   "metadata": {},
   "source": [
    "### 1.2 Local Installation"
   ]
  },
  {
   "cell_type": "markdown",
   "metadata": {},
   "source": [
    "> This step does not need to be ran in Colab\n",
    "\n",
    "For the local installation follow the instructions in the README to setup the provided jupyter server. This server has a custom kernel with the conda environment already installed. Then you can installed `pmicgen` running the next block."
   ]
  },
  {
   "cell_type": "code",
   "execution_count": null,
   "metadata": {
    "vscode": {
     "languageId": "shellscript"
    }
   },
   "outputs": [],
   "source": [
    "%cd /home/jovyan\n",
    "%pip install -q --user ."
   ]
  },
  {
   "cell_type": "markdown",
   "metadata": {},
   "source": [
    "### 1.3 Verification"
   ]
  },
  {
   "cell_type": "markdown",
   "metadata": {},
   "source": [
    "After installing the required tools, verify the `pmicgen` functionality running a sample command."
   ]
  },
  {
   "cell_type": "code",
   "execution_count": null,
   "metadata": {
    "vscode": {
     "languageId": "shellscript"
    }
   },
   "outputs": [],
   "source": [
    "!pmicgen --help"
   ]
  },
  {
   "cell_type": "markdown",
   "metadata": {},
   "source": [
    "## 2. Design and implementation\n",
    "\n",
    "Change the following variables accordingly to generate the internal LDO parameters."
   ]
  },
  {
   "cell_type": "code",
   "execution_count": null,
   "metadata": {},
   "outputs": [],
   "source": [
    "def get_user_input(prompt, default):\n",
    "    \"\"\"\n",
    "    Asks the user to enter a value or use the default.\n",
    "    \n",
    "    :param prompt: The prompt message to display to the user.\n",
    "    :param default: The default value.\n",
    "    :return: The user input or the default value.\n",
    "    \"\"\"\n",
    "    user_input = input(f\"{prompt} [Default: {default}] (leave blank to use default): \").strip()\n",
    "    return default if user_input == \"\" else type(default)(user_input)\n",
    "\n",
    "print(\"LDO Configuration\\n\")\n",
    "\n",
    "# Define default values\n",
    "defaults = {\n",
    "    'Vreg': 1.2,      # LDO output voltage\n",
    "    'Vdd': 1.8,       # LDO supply voltage\n",
    "    'Vref': 0.8,      # LDO voltage reference\n",
    "    'R1': 100000,     # Resistance 1\n",
    "    'iq': 1.5e-6,     # Current through the OTA\n",
    "    'il': 1e-3,       # Load current\n",
    "    'cl': 5e-12       # Load capacitance\n",
    "}\n",
    "\n",
    "# Dictionary to hold user choices\n",
    "user_choices = {}\n",
    "\n",
    "# Ask for each parameter\n",
    "for param, default in defaults.items():\n",
    "    user_choice = get_user_input(f\"Enter {param} or use default\", default)\n",
    "    user_choices[param] = user_choice\n",
    "\n",
    "user_choices['R2'] = int(user_choices['R1']/((user_choices['Vreg']/user_choices['Vref'])-1))\n",
    "\n",
    "print(\"\\nConfiguration Summary:\")\n",
    "for param, value in user_choices.items():\n",
    "    print(f\"{param}: {value}\")\n",
    "\n",
    "psr_condition = -46\n",
    "load_regulation_condition = \"min\"\n",
    "phase_margin_condition = 94\n",
    "size_condition = \"min\"\n",
    "\n",
    "from analysis.ldo import LDO\n",
    "\n",
    "ldo = LDO(psr_condition, load_regulation_condition, phase_margin_condition, size_condition)"
   ]
  },
  {
   "cell_type": "markdown",
   "metadata": {},
   "source": [
    "# 3. Specs to device size"
   ]
  },
  {
   "attachments": {},
   "cell_type": "markdown",
   "metadata": {
    "jp-MarkdownHeadingCollapsed": true
   },
   "source": [
    "## 3.1 LUT generation\n",
    "\n",
    "The script from https://github.com/medwatt/gmid.git was modified to work correctly with the open source pdk\n",
    "\n",
    "![](https://media.githubusercontent.com/media/pmicgen/pmicgen/main/.github/figures/spectodevsize.png)"
   ]
  },
  {
   "cell_type": "code",
   "execution_count": null,
   "metadata": {
    "scrolled": true
   },
   "outputs": [],
   "source": [
    "from mosplot import LookupTableGenerator\n",
    "from pathlib import Path\n",
    "\n",
    "\n",
    "obj = LookupTableGenerator(\n",
    "    description=\"freepdk sky130 ngspice\",\n",
    "    simulator=\"ngspice\",\n",
    "    model_paths=[\n",
    "        f\"{Path.home()}/.volare/sky130A/libs.tech/ngspice/sky130.lib.spice tt\",\n",
    "        ],\n",
    "    model_names={\n",
    "        \"pmos\": \"sky130_fd_pr__pfet_01v8_lvt\",\n",
    "        \"nmos\": \"sky130_fd_pr__nfet_01v8_lvt\",\n",
    "    },\n",
    "    vsb=(0, 1.8, 0.1),\n",
    "    vgs=(0, 1.8, 0.01),\n",
    "    vds=(0, 1.8, 0.01),\n",
    "    width=1e-06,\n",
    "    lengths=[0.4e-06, 0.8e-06, 1.6e-06, 3.2e-06, 6.4e-06],\n",
    ")\n",
    "#obj.build(\"sky130A_LUT_lvt.npy\")"
   ]
  },
  {
   "cell_type": "markdown",
   "metadata": {},
   "source": [
    "## 3.2 OTA operation point calculation"
   ]
  },
  {
   "cell_type": "markdown",
   "metadata": {
    "jp-MarkdownHeadingCollapsed": true
   },
   "source": [
    "### 3.2.1 Simulation netlist generation\n",
    "\n",
    "Here you need to specify your OTA design and the simulation circuit."
   ]
  },
  {
   "cell_type": "code",
   "execution_count": null,
   "metadata": {
    "scrolled": true
   },
   "outputs": [],
   "source": [
    "%cd /content/pmicgen\n",
    "\n",
    "from analysis.ota_op import template_generator\n",
    "import subprocess\n",
    "from analysis.utils import *\n",
    "from analysis.ldo_small_signal_modeling import small_signal_macromodel, small_signal_device\n",
    "from pathlib import Path\n",
    "\n",
    "ota_name = \"OTA1st_lvt_jm\"\n",
    "ota_netlist_path = \"./xschem/designs/ota1st_lvt_jm/OTA1st_lvt_jm.spice\"\n",
    "netlist_output = \"/tmp/OTA_op_netlist.spice\"\n",
    "op_output_data = \"op_data\"\n",
    "\n",
    "template = template_generator(ota_name=ota_name,\n",
    "                              output_file_path=op_output_data,\n",
    "                              model_paths=[f\".lib {Path.home()}/.volare/sky130A/libs.tech/ngspice/sky130.lib.spice tt\"],\n",
    "                              device_params_instantiation_model= \"m{device_model}\",\n",
    "                              simulation_circuit = [\"V1 V3V3 GND 1.8\", \n",
    "                                                    \"I0 GND net1 1.5u\", \n",
    "                                                    \"V2 net2 GND {CM_VOLTAGE}\", \n",
    "                                                    \"V3 INP net2 AC 1\", \n",
    "                                                    \"C1 OUT GND 1f m=1\", \n",
    "                                                    \"R1 net3 INM 10E6 m=1\", \n",
    "                                                    \"V4 OUT net3 {OUTPUT_VOLTAGE-CM_VOLTAGE}\", \n",
    "                                                    \"C2 INM GND 1 m=1\"],\n",
    "                              subckt_instantation = \"x1 INP INM OUT V3V3 GND net1 {subckt}\",\n",
    "                              ota_netlist_path=ota_netlist_path,\n",
    "                              netlist_output=netlist_output)\n",
    "\n",
    "template.build()"
   ]
  },
  {
   "cell_type": "markdown",
   "metadata": {
    "jp-MarkdownHeadingCollapsed": true
   },
   "source": [
    "### 3.2.2 Run the simulation to get the operation point parameters of every transistor"
   ]
  },
  {
   "cell_type": "code",
   "execution_count": null,
   "metadata": {
    "scrolled": true
   },
   "outputs": [],
   "source": [
    "print(f\"run ngspice\")\n",
    "ngspice_command = f\"ngspice -b {template.netlist_output}\"\n",
    "subprocess.run(ngspice_command, shell=True)"
   ]
  },
  {
   "cell_type": "markdown",
   "metadata": {
    "jp-MarkdownHeadingCollapsed": true
   },
   "source": [
    "### 3.2.3 Parser the simulation data and change node names for numbers"
   ]
  },
  {
   "cell_type": "code",
   "execution_count": null,
   "metadata": {
    "scrolled": true
   },
   "outputs": [],
   "source": [
    "op_data = op_parser(template)\n",
    "op_data"
   ]
  },
  {
   "cell_type": "markdown",
   "metadata": {},
   "source": [
    "## 3.3 Symbolic Solve\n"
   ]
  },
  {
   "cell_type": "markdown",
   "metadata": {
    "jp-MarkdownHeadingCollapsed": true
   },
   "source": [
    "### 3.3.1 Closed-Loop Macromodel Generation"
   ]
  },
  {
   "cell_type": "code",
   "execution_count": null,
   "metadata": {},
   "outputs": [],
   "source": [
    "nodes, in_pos_node, next_node = node_identification(template)\n",
    "ldo_output_node = next_node\n",
    "nodes"
   ]
  },
  {
   "cell_type": "code",
   "execution_count": null,
   "metadata": {},
   "outputs": [],
   "source": [
    "ldo_output_node"
   ]
  },
  {
   "cell_type": "code",
   "execution_count": null,
   "metadata": {},
   "outputs": [],
   "source": [
    "macromodel = small_signal_macromodel(macromodel_file_path = \"/tmp/ldo_macromodel.spice\")\n",
    "small_signal_devices = macromodel.build(template, op_data, nodes)\n",
    "\n",
    "f = open(macromodel.macromodel_file_path, \"a\")\n",
    "f.write(f\"Vdd {nodes['VDD']} {nodes['VSS']} 1\\n\")\n",
    "f.write(f\"Vref {nodes['IN_M']} {nodes['VSS']} 1\\n\")\n",
    "pass_tranistor = small_signal_device(name=\"pt\", \n",
    "                                                gds=1, \n",
    "                                                gm=1,\n",
    "                                                cgs=1, \n",
    "                                                cgd=1, \n",
    "                                                vs=nodes[\"VDD\"], vd=ldo_output_node, vg=nodes[\"OUT\"])\n",
    "print(\"\\n\".join(pass_tranistor.get_model_spice()))\n",
    "f.write(\"\\n\".join(pass_tranistor.get_model_spice()))\n",
    "f.write(f\"\\nR1 {nodes['IN_P']} {ldo_output_node} 100000\\n\")\n",
    "f.write(f\"R2 0 {nodes['IN_P']} 200000\\n\")\n",
    "f.write(f\"C_load 7 0 1e-16\\n\")\n",
    "f.close()\n",
    "\n",
    "f = open(macromodel.macromodel_file_path, \"r\")\n",
    "print(f.read())\n",
    "f.close()"
   ]
  },
  {
   "cell_type": "markdown",
   "metadata": {
    "jp-MarkdownHeadingCollapsed": true
   },
   "source": [
    "### 3.3.2 Open-Loop Macromodel Generation"
   ]
  },
  {
   "cell_type": "code",
   "execution_count": null,
   "metadata": {},
   "outputs": [],
   "source": [
    "break_node = \"IN_P\"\n",
    "node_disp = next_node+1\n",
    "\n",
    "nodes, in_pos_node, next_node = node_identification_openloop(template)\n",
    "ldo_output_node = next_node\n",
    "nodes"
   ]
  },
  {
   "cell_type": "code",
   "execution_count": null,
   "metadata": {},
   "outputs": [],
   "source": [
    "macromodel = small_signal_macromodel(macromodel_file_path = \"/tmp/ldo_macromodel_openloop.spice\")\n",
    "small_signal_devices = macromodel.build(template, op_data, nodes)\n",
    "\n",
    "ldo_break_node = ldo_output_node+1\n",
    "\n",
    "f = open(macromodel.macromodel_file_path, \"a\")\n",
    "f.write(f\"Vdd {nodes['IN_P']} {nodes['VSS']} 1\\n\")\n",
    "pass_tranistor = small_signal_device(name=\"pt\", \n",
    "                                                gds=1, \n",
    "                                                gm=1,\n",
    "                                                cgs=1, \n",
    "                                                cgd=1, \n",
    "                                                vs=nodes[\"VDD\"], vd=ldo_output_node, vg=nodes[\"OUT\"])\n",
    "print(\"\\n\".join(pass_tranistor.get_model_spice()))\n",
    "f.write(\"\\n\".join(pass_tranistor.get_model_spice()))\n",
    "f.write(f\"\\nR1 {ldo_break_node} {ldo_output_node} 100000\\n\")\n",
    "f.write(f\"R2 0 {ldo_break_node} 200000\\n\")\n",
    "f.write(f\"C_load 7 0 1e-16\\n\")\n",
    "f.close()\n",
    "\n",
    "f = open(macromodel.macromodel_file_path, \"r\")\n",
    "print(f.read())\n",
    "f.close()"
   ]
  },
  {
   "cell_type": "markdown",
   "metadata": {
    "jp-MarkdownHeadingCollapsed": true
   },
   "source": [
    "### 3.3.3 MNA "
   ]
  },
  {
   "cell_type": "markdown",
   "metadata": {},
   "source": [
    "Closed loop MNA"
   ]
  },
  {
   "cell_type": "code",
   "execution_count": null,
   "metadata": {},
   "outputs": [],
   "source": [
    "from analysis.symbolic_mna import symbolic_mna\n",
    "closed_loop_sym_mna = symbolic_mna()\n",
    "closed_loop_sym_mna.netlist = \"/tmp/ldo_macromodel.spice\"\n",
    "A = closed_loop_sym_mna.build()"
   ]
  },
  {
   "cell_type": "markdown",
   "metadata": {},
   "source": [
    "Open loop MNA"
   ]
  },
  {
   "cell_type": "code",
   "execution_count": null,
   "metadata": {},
   "outputs": [],
   "source": [
    "from analysis.symbolic_mna import symbolic_mna    \n",
    "open_loop_sym_mna = symbolic_mna()\n",
    "open_loop_sym_mna.netlist = \"/tmp/ldo_macromodel_openloop.spice\"\n",
    "B = open_loop_sym_mna.build()"
   ]
  },
  {
   "cell_type": "markdown",
   "metadata": {},
   "source": [
    "## 3.4 Pass Transistor Exploration"
   ]
  },
  {
   "cell_type": "markdown",
   "metadata": {},
   "source": [
    "Tests and store the pass transistor characteristics"
   ]
  },
  {
   "cell_type": "code",
   "execution_count": null,
   "metadata": {},
   "outputs": [],
   "source": [
    "from mosplot import load_lookup_table\n",
    "import numpy as np\n",
    "import analysis.ldo_mna as mna\n",
    "import matplotlib.pyplot as plt\n",
    "import sympy as sym\n",
    "\n",
    "lookup_table = load_lookup_table(\"sky130A_LUT.npy\")\n",
    "## LDO exploration parameters (this vakues can be change as the user see fit)\n",
    "lengths = [0.4e-06, 0.6e-06, 0.8e-06, 1.6e-06]      # Length exploration values.\n",
    "gmid_sweep = np.arange(5,25,0.2)               # gm/id sweep for exploration.\n",
    "pass_transistor = mna.pass_transistor_exploration(lookup_table, user_choices['Vdd'], user_choices['Vreg'], user_choices['il'], user_choices['R1'], user_choices['R2'], lengths, gmid_sweep, (-1.8, -0.1, 0.1))\n",
    "\n",
    "fig, axs = plt.subplots(2, 3, figsize=(12, 6))\n",
    "fig.suptitle('Pass Transistor Characteristics')\n",
    "for index, val in enumerate(lengths):\n",
    "    axs[0, 0].plot(gmid_sweep, pass_transistor.vgs[index,:])\n",
    "axs[0, 0].set_title('Vgs vs gmid')\n",
    "for index, val in enumerate(lengths):\n",
    "    axs[0, 1].plot(gmid_sweep, pass_transistor.Jd[index,:])\n",
    "axs[0, 1].set_title('Jd vs Vgs')\n",
    "for index, val in enumerate(lengths):\n",
    "    axs[0, 2].plot(gmid_sweep, pass_transistor.gm[index,:])\n",
    "axs[0, 2].set_title('gm vs vgs')\n",
    "for index, val in enumerate(lengths):\n",
    "    axs[1, 0].plot(gmid_sweep, pass_transistor.gds[index,:])\n",
    "axs[1, 0].set_title('gds vs Vgs')\n",
    "for index, val in enumerate(lengths):\n",
    "    axs[1, 1].plot(gmid_sweep, pass_transistor.W[index,:])\n",
    "axs[1, 1].set_title('W vs Vgs')\n",
    "for index, val in enumerate(lengths):\n",
    "    axs[1, 2].plot(gmid_sweep, pass_transistor.cgd[index,:])\n",
    "axs[1, 2].set_title('cgd vs Vgs')\n",
    "axs[1,1].set_yscale('log')"
   ]
  },
  {
   "cell_type": "markdown",
   "metadata": {},
   "source": [
    "## 3.5 Design Space"
   ]
  },
  {
   "cell_type": "markdown",
   "metadata": {},
   "source": [
    "### 3.5.1 PSR"
   ]
  },
  {
   "cell_type": "code",
   "execution_count": null,
   "metadata": {},
   "outputs": [],
   "source": [
    "L = sym.sympify(\"L\")\n",
    "W = sym.sympify(\"W\")\n",
    "\n",
    "Area = sym.lambdify([L, W], L+W)   # Total area of the pass transistor\n",
    "\n",
    "lengths_reshaped = np.ndarray.flatten(np.transpose(np.tile(lengths, (100,1))))\n",
    "f_2 = Area(lengths_reshaped, np.ndarray.flatten(pass_transistor.W))\n",
    "\n",
    "area_mask = []\n",
    "for x in f_2:\n",
    "    if (x<ldo.size_condition):\n",
    "        area_mask.append(True)\n",
    "    else:\n",
    "        area_mask.append(False)"
   ]
  },
  {
   "cell_type": "code",
   "execution_count": null,
   "metadata": {
    "scrolled": true
   },
   "outputs": [],
   "source": [
    "from sympy import *\n",
    "import cmath as math\n",
    "\n",
    "components_values = closed_loop_sym_mna.components_values()\n",
    "s=Symbol('s')\n",
    "components_values[sympify('Gm_pt')]=sympify('Gm_pt')\n",
    "components_values[sympify('Rds_pt')]=sympify('Rds_pt')\n",
    "components_values[sympify('Cgs_pt')]=sympify('Cgs_pt')\n",
    "components_values[sympify('Cgd_pt')]=sympify('Cgd_pt')\n",
    "components_values[sympify('Vref')]=0\n",
    "\n",
    "ldo_sym_equation = closed_loop_sym_mna.mna_equation()\n",
    "ldo_num_equation = ldo_sym_equation.subs(components_values)\n",
    "ldo_num_equation = ldo_num_equation.subs({s:0})\n",
    "ldo_num_equation"
   ]
  },
  {
   "cell_type": "code",
   "execution_count": null,
   "metadata": {},
   "outputs": [],
   "source": [
    "ldo_num_eq_solve = solve(ldo_num_equation,closed_loop_sym_mna.X)\n",
    "ldo_output_tf = ldo_num_eq_solve[closed_loop_sym_mna.X[ldo_output_node]]\n",
    "ldo_output_tf"
   ]
  },
  {
   "cell_type": "code",
   "execution_count": null,
   "metadata": {},
   "outputs": [],
   "source": [
    "Gm_pt = sym.Symbol('Gm_pt')\n",
    "Rds_pt = sym.Symbol('Rds_pt')\n",
    "\n",
    "ldo_psr_dc_eq_lamb = sym.lambdify([Gm_pt, Rds_pt], ldo_output_tf)\n",
    "ldo_psr_dc = ldo_psr_dc_eq_lamb(np.multiply(pass_transistor.gm, pass_transistor.W*1e6), 1/np.multiply(pass_transistor.gds, pass_transistor.W*1e6))\n",
    "ldo_psr_dc_db = 20*np.log10(np.abs(ldo_psr_dc))\n",
    "\n",
    "ldo_psr_dc_db = np.ndarray.flatten(ldo_psr_dc_db)\n",
    "ldo_psr_dc_db_mask = []\n",
    "for x in ldo_psr_dc_db:\n",
    "    if(x<ldo.psr_condition):\n",
    "        ldo_psr_dc_db_mask.append(True)\n",
    "    else:\n",
    "        ldo_psr_dc_db_mask.append(False)\n",
    "\n",
    "L = sym.Symbol('L')\n",
    "W = sym.Symbol('W')\n",
    "\n",
    "f_1 = ldo_psr_dc_db\n",
    "plt.scatter(f_2,f_1)\n",
    "plt.scatter(f_2[np.asarray(ldo_psr_dc_db_mask) & np.asarray(area_mask)], f_1[np.asarray(ldo_psr_dc_db_mask) & np.asarray(area_mask)])\n",
    "plt.legend(['Nominal', 'PSR < '+str(psr_condition)])\n",
    "plt.xscale('log')\n",
    "plt.title('PSR vs Area')\n",
    "plt.xlabel('Area')\n",
    "plt.ylabel('PSR')"
   ]
  },
  {
   "cell_type": "markdown",
   "metadata": {},
   "source": [
    "### 3.5.2 Phase Margin"
   ]
  },
  {
   "cell_type": "code",
   "execution_count": null,
   "metadata": {},
   "outputs": [],
   "source": [
    "from sympy import *\n",
    "import cmath as math\n",
    "\n",
    "components_values = open_loop_sym_mna.components_values()\n",
    "components_values[sympify('Gm_pt')]=sympify('Gm_pt')\n",
    "components_values[sympify('Rds_pt')]=sympify('Rds_pt')\n",
    "components_values[sympify('Cgs_pt')]=sympify('Cgs_pt')\n",
    "components_values[sympify('Cgd_pt')]=sympify('Cgd_pt')\n",
    "\n",
    "eq = open_loop_sym_mna.mna_equation()\n",
    "eq1 = eq.subs(components_values)\n",
    "u1 = solve(eq1,open_loop_sym_mna.X)\n",
    "G = u1[open_loop_sym_mna.X[ldo_output_node-1]]\n",
    "G"
   ]
  },
  {
   "cell_type": "code",
   "execution_count": null,
   "metadata": {
    "scrolled": true
   },
   "outputs": [],
   "source": [
    "# 1. Lambdify the matrix so the parameters of the Pass Transistor can be replaced\n",
    "s = Symbol('s')\n",
    "Gm_pt = sym.Symbol('Gm_pt')\n",
    "Rds_pt = sym.Symbol('Rds_pt')\n",
    "Cgs_pt = sym.Symbol('Cgs_pt')\n",
    "Cgd_pt = sym.Symbol('Cgd_pt')\n",
    "PSRR_DC_lamb = sym.lambdify([Gm_pt, Rds_pt, Cgs_pt, Cgd_pt], G)\n",
    "\n",
    "psr = PSRR_DC_lamb(np.multiply(pass_transistor.gm, pass_transistor.W*1e6),\n",
    "                   1/np.multiply(pass_transistor.gds, pass_transistor.W*1e6),\n",
    "                   np.multiply(np.abs(pass_transistor.cgs), pass_transistor.W*1e6),\n",
    "                   np.multiply(np.abs(pass_transistor.cgd), pass_transistor.W*1e6))\n",
    "\n",
    "def get_pm(psr, s_sweep):\n",
    "    \n",
    "    bode_data = []\n",
    "    phase_data = []\n",
    "    for idx, value in enumerate(s_sweep):\n",
    "            PSRR = psr.subs({s:2*math.pi*value*1j})\n",
    "            magnitude = 20*np.log10(float(np.abs(PSRR)))\n",
    "            bode_data.append(magnitude)\n",
    "            phase_data.append(math.phase(PSRR))\n",
    "    return bode_data, phase_data\n",
    "\n",
    "pm = []\n",
    "s_sweep = np.logspace(1,10, num=100, base=10)\n",
    "for eq_l in psr:\n",
    "    for eq_w in eq_l:\n",
    "        bode_data, phase_data = get_pm(eq_w, s_sweep)\n",
    "        ugf = np.argmin(np.abs(bode_data))\n",
    "        tmp = 180+phase_data[ugf]*180/math.pi\n",
    "        pm.append(tmp)"
   ]
  },
  {
   "cell_type": "markdown",
   "metadata": {},
   "source": [
    "> Warning: This step can take a long time (~25min in Colab)"
   ]
  },
  {
   "cell_type": "code",
   "execution_count": null,
   "metadata": {},
   "outputs": [],
   "source": [
    "pm_mask = []\n",
    "for x in pm:\n",
    "    if(x>ldo.phase_margin_condition):\n",
    "        pm_mask.append(True)\n",
    "    else:\n",
    "        pm_mask.append(False)\n",
    "pm = np.asarray(pm)"
   ]
  },
  {
   "cell_type": "code",
   "execution_count": null,
   "metadata": {},
   "outputs": [],
   "source": [
    "plt.scatter(f_2, pm)\n",
    "plt.scatter(f_2[np.asarray(pm_mask) & np.asarray(area_mask)], pm[np.asarray(pm_mask) & np.asarray(area_mask)])\n",
    "plt.xscale('log')"
   ]
  },
  {
   "cell_type": "markdown",
   "metadata": {},
   "source": [
    "### 3.5.3 Load Regulation"
   ]
  },
  {
   "cell_type": "code",
   "execution_count": null,
   "metadata": {},
   "outputs": [],
   "source": [
    "from sympy import *\n",
    "import cmath as math"
   ]
  },
  {
   "cell_type": "code",
   "execution_count": null,
   "metadata": {
    "scrolled": true
   },
   "outputs": [],
   "source": [
    "components_values = closed_loop_sym_mna.components_values()\n",
    "components_values[sympify('Gm_pt')]=sympify('Gm_pt')\n",
    "components_values[sympify('Rds_pt')]=sympify('Rds_pt')\n",
    "components_values[sympify('Cgs_pt')]=sympify('Cgs_pt')\n",
    "components_values[sympify('Cgd_pt')]=sympify('Cgd_pt')\n",
    "z_matrix = Matrix(closed_loop_sym_mna.Z)\n",
    "z_matrix = z_matrix+Matrix([0,0,0,0,0,0,1.5e-6,-0.667e-3,0.8,-0.2])\n",
    "load_reg_eq = Eq(closed_loop_sym_mna.A*Matrix(closed_loop_sym_mna.X),z_matrix)\n",
    "load_reg_num_eq = load_reg_eq.subs(components_values)\n",
    "load_reg_num_eq = load_reg_num_eq.subs({s:0})\n",
    "load_reg_num_eq_solve = solve(load_reg_num_eq,closed_loop_sym_mna.X)\n",
    "load_reg_output = load_reg_num_eq_solve[closed_loop_sym_mna.X[ldo_output_node]]\n",
    "load_reg_output_lamb = sym.lambdify([Gm_pt, Rds_pt], load_reg_output)\n",
    "load_reg_1 = load_reg_output_lamb(np.multiply(pass_transistor.gm, pass_transistor.W*1e6), 1/np.multiply(pass_transistor.gds, pass_transistor.W*1e6))\n",
    "load_reg_1"
   ]
  },
  {
   "cell_type": "code",
   "execution_count": null,
   "metadata": {
    "scrolled": true
   },
   "outputs": [],
   "source": [
    "components_values = closed_loop_sym_mna.components_values()\n",
    "components_values[sympify('Gm_pt')]=sympify('Gm_pt')\n",
    "components_values[sympify('Rds_pt')]=sympify('Rds_pt')\n",
    "components_values[sympify('Cgs_pt')]=sympify('Cgs_pt')\n",
    "components_values[sympify('Cgd_pt')]=sympify('Cgd_pt')\n",
    "z_matrix = Matrix(closed_loop_sym_mna.Z)\n",
    "z_matrix = z_matrix+Matrix([0,0,0,0,0,0,1.5e-6,-0.667e-2,0.8,-0.2])\n",
    "load_reg_eq = Eq(closed_loop_sym_mna.A*Matrix(closed_loop_sym_mna.X),z_matrix)\n",
    "load_reg_num_eq = load_reg_eq.subs(components_values)\n",
    "load_reg_num_eq = load_reg_num_eq.subs({s:0})\n",
    "load_reg_num_eq_solve = solve(load_reg_num_eq,closed_loop_sym_mna.X)\n",
    "load_reg_output = load_reg_num_eq_solve[closed_loop_sym_mna.X[ldo_output_node]]\n",
    "load_reg_output_lamb = sym.lambdify([Gm_pt, Rds_pt], load_reg_output)\n",
    "load_reg_2= load_reg_output_lamb(np.multiply(pass_transistor.gm, pass_transistor.W*1e6), 1/np.multiply(pass_transistor.gds, pass_transistor.W*1e6))\n",
    "load_reg_2"
   ]
  },
  {
   "cell_type": "code",
   "execution_count": null,
   "metadata": {},
   "outputs": [],
   "source": [
    "load_regulation = (load_reg_1-load_reg_2)/(0.667e-3-0.667e-2)\n",
    "load_regulation = np.ndarray.flatten(load_regulation)\n",
    "\n",
    "load_regulation_mask = []\n",
    "for x in load_regulation:\n",
    "    if(x<ldo.load_regulation_condition):\n",
    "        load_regulation_mask.append(True)\n",
    "    else:\n",
    "        load_regulation_mask.append(False)\n",
    "\n",
    "plt.scatter(f_2, load_regulation)\n",
    "plt.scatter(f_2[np.asarray(load_regulation_mask) & np.asarray(area_mask)], load_regulation[np.asarray(load_regulation_mask) & np.asarray(area_mask)])\n",
    "plt.xscale('log')"
   ]
  },
  {
   "cell_type": "markdown",
   "metadata": {},
   "source": [
    "### 3.5.3 Final Graphs"
   ]
  },
  {
   "cell_type": "code",
   "execution_count": null,
   "metadata": {},
   "outputs": [],
   "source": [
    "import pandas as pd\n",
    "import paretoset as pareto\n",
    "final_mask = np.asarray(ldo_psr_dc_db_mask) & np.asarray(area_mask) & np.asarray(pm_mask) & np.asarray(load_regulation_mask)\n",
    "\n",
    "opt_dict = {}\n",
    "sense_list = []\n",
    "for item in ldo.optimize:\n",
    "    if item==\"psr_condition\":\n",
    "        opt_dict[item]=f_1[final_mask]\n",
    "        sense_list.append(ldo.optimize[item])\n",
    "    elif item==\"phase_margin_condition\":\n",
    "        opt_dict[item]=pm[final_mask]\n",
    "        sense_list.append(ldo.optimize[item])\n",
    "    elif item==\"load_regulation_condition\":\n",
    "        opt_dict[item]=load_regulation[final_mask]\n",
    "        sense_list.append(ldo.optimize[item])\n",
    "    elif item==\"size_condition\":\n",
    "        opt_dict[item]=f_2[final_mask]\n",
    "        sense_list.append(ldo.optimize[item])\n",
    "\n",
    "\n",
    "opt = pd.DataFrame(opt_dict)\n",
    "mask = pareto.paretoset(opt, sense=sense_list)"
   ]
  },
  {
   "cell_type": "code",
   "execution_count": null,
   "metadata": {},
   "outputs": [],
   "source": [
    "import paretoset as pareto\n",
    "import pandas as pd\n",
    "\n",
    "\n",
    "pareto_frontier = opt[mask]\n",
    "\n",
    "plt.scatter(f_2,f_1)\n",
    "plt.scatter(f_2[final_mask], f_1[final_mask])\n",
    "plt.scatter(f_2[final_mask][mask], f_1[final_mask][mask])\n",
    "\n",
    "plt.xscale('log')\n",
    "plt.title('PSRR_DC')\n",
    "plt.ylabel('PSRR')\n",
    "plt.xlabel('Pass transistor Area')\n",
    "plt.legend(['nominal', 'PM > 125', 'paretos frontier'])\n",
    "print(f_1[final_mask][mask])\n"
   ]
  },
  {
   "cell_type": "code",
   "execution_count": null,
   "metadata": {},
   "outputs": [],
   "source": [
    "selected_index = 4\n",
    "print(np.ndarray.flatten(pass_transistor.W)[final_mask][mask][selected_index])\n",
    "print(lengths_reshaped[final_mask][mask][selected_index])"
   ]
  },
  {
   "cell_type": "markdown",
   "metadata": {},
   "source": [
    "TODO: Explanation of the procedure"
   ]
  },
  {
   "cell_type": "code",
   "execution_count": null,
   "metadata": {
    "vscode": {
     "languageId": "shellscript"
    }
   },
   "outputs": [],
   "source": [
    "!pmicgen pmic_specs <specs>"
   ]
  },
  {
   "cell_type": "markdown",
   "metadata": {},
   "source": [
    "## 10. Bandgap Reference"
   ]
  },
  {
   "cell_type": "markdown",
   "metadata": {},
   "source": [
    "### Generation\n",
    "The following command outputs the design files at `build/sky130_bgr`"
   ]
  },
  {
   "cell_type": "code",
   "execution_count": null,
   "metadata": {
    "vscode": {
     "languageId": "shellscript"
    }
   },
   "outputs": [],
   "source": [
    "%cd /content/pmicgen/xschem\n",
    "!xschem -q -r -n --rcfile xschemrc tests/tb_bgr.sch\n",
    "%cd /content/pmicgen\n",
    "!pmicgen --tech sky130A bgr\n",
    "!mkdir -p build/sky130_bgr/ngspice/pre_tb\n",
    "!mv xschem/bgr.csv build/sky130_bgr/ngspice/pre_tb"
   ]
  },
  {
   "cell_type": "markdown",
   "metadata": {},
   "source": [
    "### Layout"
   ]
  },
  {
   "cell_type": "code",
   "execution_count": null,
   "metadata": {},
   "outputs": [],
   "source": [
    "%cd /content/pmicgen\n",
    "import gdsfactory as gf\n",
    "import sky130\n",
    "bgr: gf.Component = gf.read.import_gds(\"build/sky130_bgr/gds/bgr.gds\")\n",
    "bgr.plot()\n"
   ]
  },
  {
   "cell_type": "markdown",
   "metadata": {},
   "source": [
    "### Schematic Simulation"
   ]
  },
  {
   "cell_type": "code",
   "execution_count": null,
   "metadata": {},
   "outputs": [],
   "source": [
    "import pandas as pd\n",
    "import matplotlib.pyplot as plt\n",
    "\n",
    "df = pd.read_csv('build/sky130_bgr/ngspice/pre_tb/bgr.csv',\n",
    "    delim_whitespace=True,\n",
    "    header=None,\n",
    "    names=['t', 'v'])\n",
    "plt.figure(figsize=(10, 6))\n",
    "plt.plot(df['t'], df['v'], linestyle='-')\n",
    "plt.title('Transient output')\n",
    "plt.xlabel('Time')\n",
    "plt.ylabel('Voltage')\n",
    "plt.ylim([0, 2.3])\n",
    "plt.grid(True)\n",
    "plt.show()"
   ]
  },
  {
   "cell_type": "markdown",
   "metadata": {},
   "source": [
    "## 11. Error Amplifier"
   ]
  },
  {
   "cell_type": "markdown",
   "metadata": {},
   "source": [
    "### Generation\n",
    "\n",
    "The following command outputs the desing files at `build/sky130_erroramp/`"
   ]
  },
  {
   "cell_type": "code",
   "execution_count": null,
   "metadata": {
    "vscode": {
     "languageId": "shellscript"
    }
   },
   "outputs": [],
   "source": [
    "%cd /content/pmicgen/xschem\n",
    "!xschem -q -r -n --rcfile xschemrc tests/tb_ota.sch\n",
    "%cd /content/pmicgen\n",
    "!pmicgen --tech sky130A ota --netlist align/mabrains_erroramp\n",
    "!mkdir -p build/sky130_erroramp/gds\n",
    "!mv MABRAINS_ERRORAMP_0.gds build/sky130_erroramp/gds/erroramp.gds\n",
    "!mkdir -p build/sky130_erroramp/ngspice/pre_tb\n",
    "!mv xschem/ota.csv build/sky130_erroramp/ngspice/pre_tb/erroramp.csv"
   ]
  },
  {
   "cell_type": "markdown",
   "metadata": {},
   "source": [
    "### Layout"
   ]
  },
  {
   "cell_type": "code",
   "execution_count": null,
   "metadata": {},
   "outputs": [],
   "source": [
    "%cd /content/pmicgen\n",
    "import gdsfactory as gf\n",
    "import sky130\n",
    "pmosw: gf.Component = gf.read.import_gds(\"build/sky130_erroramp/gds/erroramp.gds\")\n",
    "pmosw.plot_matplotlib()"
   ]
  },
  {
   "cell_type": "markdown",
   "metadata": {},
   "source": [
    "### Schematic Simulation"
   ]
  },
  {
   "cell_type": "markdown",
   "metadata": {},
   "source": [
    "AC analysis"
   ]
  },
  {
   "cell_type": "code",
   "execution_count": null,
   "metadata": {},
   "outputs": [],
   "source": [
    "import pandas as pd\n",
    "import matplotlib.pyplot as plt\n",
    "\n",
    "df = pd.read_csv('build/sky130_ota/ngspice/pre_tb/ac.csv',\n",
    "    delim_whitespace=True,\n",
    "    header=None,\n",
    "    names=['f', 'mag'])\n",
    "plt.figure(figsize=(10, 6))\n",
    "plt.plot(df['f'], df['mag'], marker='o', linestyle='-')\n",
    "plt.title('AC analysis')\n",
    "plt.xlabel('frequency')\n",
    "plt.ylabel('dB')\n",
    "plt.grid(True)\n",
    "plt.show()"
   ]
  },
  {
   "cell_type": "markdown",
   "metadata": {},
   "source": [
    "Transient analysis"
   ]
  },
  {
   "cell_type": "code",
   "execution_count": null,
   "metadata": {},
   "outputs": [],
   "source": [
    "import pandas as pd\n",
    "import matplotlib.pyplot as plt\n",
    "\n",
    "df = pd.read_csv('build/sky130_ota/ngspice/pre_tb/ac.csv',\n",
    "    delim_whitespace=True,\n",
    "    header=None,\n",
    "    names=['v', 't'])\n",
    "plt.figure(figsize=(10, 6))\n",
    "plt.plot(df['v'], df['t'], marker='o', linestyle='-')\n",
    "plt.title('Transient analysis')\n",
    "plt.xlabel('Time')\n",
    "plt.ylabel('Voltage')\n",
    "plt.grid(True)\n",
    "plt.show()"
   ]
  },
  {
   "cell_type": "markdown",
   "metadata": {},
   "source": [
    "## 12. Common Centroid Resistance"
   ]
  },
  {
   "cell_type": "markdown",
   "metadata": {},
   "source": [
    "### Generation\n",
    "The following command outputs the design files at `build/sky130_ccres`"
   ]
  },
  {
   "cell_type": "code",
   "execution_count": null,
   "metadata": {
    "vscode": {
     "languageId": "shellscript"
    }
   },
   "outputs": [],
   "source": [
    "!pmicgen ccres --tech sky130 --ratio 0.6 --row 5 --col 5"
   ]
  },
  {
   "cell_type": "markdown",
   "metadata": {},
   "source": [
    "### Layout"
   ]
  },
  {
   "cell_type": "code",
   "execution_count": null,
   "metadata": {},
   "outputs": [],
   "source": [
    "import gdsfactory as gf\n",
    "import sky130\n",
    "pmosw: gf.Component = gf.read_gds(\"../build/sky130_pmosw/pmosw.gds\")\n",
    "gf.plot(pmosw)"
   ]
  },
  {
   "cell_type": "markdown",
   "metadata": {},
   "source": [
    "### Schematic Simulation"
   ]
  },
  {
   "cell_type": "markdown",
   "metadata": {},
   "source": [
    "DC analysis"
   ]
  },
  {
   "cell_type": "code",
   "execution_count": null,
   "metadata": {},
   "outputs": [],
   "source": [
    "import pandas as pd\n",
    "import matplotlib.pyplot as plt\n",
    "\n",
    "df = pd.read_csv('build/sky130_ccres/ngspice/pre_tb/dc.csv',\n",
    "    delim_whitespace=True,\n",
    "    header=None,\n",
    "    names=['i', 'v'])\n",
    "plt.figure(figsize=(10, 6))\n",
    "plt.plot(df['i'], df['v'], marker='o', linestyle='-')\n",
    "plt.title('i vs v')\n",
    "plt.xlabel('v')\n",
    "plt.ylabel('i')\n",
    "plt.grid(True)\n",
    "plt.show()"
   ]
  },
  {
   "cell_type": "markdown",
   "metadata": {},
   "source": [
    "Voltage Divider"
   ]
  },
  {
   "cell_type": "code",
   "execution_count": null,
   "metadata": {},
   "outputs": [],
   "source": [
    "import pandas as pd\n",
    "import matplotlib.pyplot as plt\n",
    "\n",
    "df = pd.read_csv('build/sky130_ccres/ngspice/pre_tb/vdiv.csv',\n",
    "    delim_whitespace=True,\n",
    "    header=None,\n",
    "    names=['vout', 'vin'])\n",
    "plt.figure(figsize=(10, 6))\n",
    "plt.plot(df['vout'], df['vin'], marker='o', linestyle='-')\n",
    "plt.title('Voltage divider')\n",
    "plt.xlabel('vin')\n",
    "plt.ylabel('vout')\n",
    "plt.grid(True)\n",
    "plt.show()"
   ]
  },
  {
   "cell_type": "markdown",
   "metadata": {},
   "source": [
    "## 13. Waffle Transistor"
   ]
  },
  {
   "cell_type": "markdown",
   "metadata": {},
   "source": [
    "### Generation\n",
    "The following command outputs the design files at `build/sky130_pmosw`\n",
    "\n",
    "Keep in mind that the multiplicty scales into discretes values, so an albitrary value will be approximated "
   ]
  },
  {
   "cell_type": "markdown",
   "metadata": {},
   "source": [
    "[[2DO: Explicar de donde vienen los parametros]]"
   ]
  },
  {
   "cell_type": "code",
   "execution_count": null,
   "metadata": {
    "vscode": {
     "languageId": "shellscript"
    }
   },
   "outputs": [],
   "source": [
    "%cd /content/pmicgen/xschem\n",
    "!xschem -q -r -n --rcfile xschemrc tests/tb_pmosw.sch\n",
    "%cd /content/pmicgen\n",
    "!pmicgen --tech sky130A pmosw --mult 480\n",
    "!mkdir -p build/sky130_pmosw/ngspice/pre_tb\n",
    "!mv xschem/pmosw.csv build/sky130_pmosw/ngspice/pre_tb"
   ]
  },
  {
   "cell_type": "markdown",
   "metadata": {},
   "source": [
    "### Layout"
   ]
  },
  {
   "cell_type": "code",
   "execution_count": null,
   "metadata": {},
   "outputs": [],
   "source": [
    "import gdsfactory as gf\n",
    "pmosw: gf.Component = gf.read.import_gds(\"build/sky130_pmosw/gds/pmosw.gds\")\n",
    "pmosw.plot()"
   ]
  },
  {
   "cell_type": "markdown",
   "metadata": {},
   "source": [
    "### Schematic Simulation"
   ]
  },
  {
   "cell_type": "markdown",
   "metadata": {},
   "source": [
    "[[2DO: Añadir leyenda vgs]]"
   ]
  },
  {
   "cell_type": "code",
   "execution_count": null,
   "metadata": {},
   "outputs": [],
   "source": [
    "# pmicgen should run this by default for testing purpose\n",
    "# !ngspice build/sky130_pmosw/ngspice/tb_id_vds.spice\n",
    "import pandas as pd\n",
    "import matplotlib.pyplot as plt\n",
    "\n",
    "df = pd.read_csv('build/sky130_pmosw/ngspice/pre_tb/id_vds.csv',\n",
    "    delim_whitespace=True,\n",
    "    header=None,\n",
    "    names=['t', 'id', 'vds'])\n",
    "\n",
    "plt.figure(figsize=(10, 6))\n",
    "plt.plot(df['ids'], df['vds'], marker='o', linestyle='-')\n",
    "plt.title('ids vs vds')\n",
    "plt.xlabel('ids')\n",
    "plt.ylabel('vds')\n",
    "plt.grid(True)\n",
    "plt.show()"
   ]
  },
  {
   "cell_type": "markdown",
   "metadata": {},
   "source": [
    "[[2DO]]: Separa categoria LDO / subbloques"
   ]
  },
  {
   "cell_type": "markdown",
   "metadata": {},
   "source": [
    "## 14. Low Drop Out Regulator"
   ]
  },
  {
   "cell_type": "markdown",
   "metadata": {},
   "source": [
    "### Generation\n",
    "The following commands outputs the design files at `build/sky130_ldo`\n",
    "\n",
    "This desig can be generatede either through a list of specs or through the components generated previously"
   ]
  },
  {
   "cell_type": "code",
   "execution_count": null,
   "metadata": {
    "vscode": {
     "languageId": "shellscript"
    }
   },
   "outputs": [],
   "source": [
    "!pmicgen ldo --tech sky130A"
   ]
  },
  {
   "cell_type": "markdown",
   "metadata": {},
   "source": [
    "### Schematic Simulation"
   ]
  },
  {
   "cell_type": "markdown",
   "metadata": {},
   "source": [
    "Supply Variation"
   ]
  },
  {
   "cell_type": "code",
   "execution_count": null,
   "metadata": {},
   "outputs": [],
   "source": [
    "import pandas as pd\n",
    "import matplotlib.pyplot as plt\n",
    "\n",
    "df = pd.read_csv('build/sky130_ldo/ngspice/pre_tb/supplyvar.csv',\n",
    "    delim_whitespace=True,\n",
    "    header=None,\n",
    "    names=['vs', 'vdd', 'vout'])\n",
    "\n",
    "plt.figure(figsize=(10, 6))\n",
    "plt.plot(df['vout'], df['vs'], marker='o', linestyle='-')\n",
    "plt.plot(df['vdd'], df['vs'], marker='o', linestyle='-')\n",
    "plt.title('Supply variation')\n",
    "plt.xlabel('vs')\n",
    "plt.ylabel('v')\n",
    "plt.grid(True)\n",
    "plt.show()"
   ]
  },
  {
   "cell_type": "markdown",
   "metadata": {},
   "source": [
    "PSRR"
   ]
  },
  {
   "cell_type": "code",
   "execution_count": null,
   "metadata": {},
   "outputs": [],
   "source": [
    "import pandas as pd\n",
    "import matplotlib.pyplot as plt\n",
    "\n",
    "df = pd.read_csv('build/sky130_ldo/ngspice/pre_tb/psrr.csv',\n",
    "    delim_whitespace=True,\n",
    "    header=None,\n",
    "    names=['f', 'mag'])\n",
    "\n",
    "plt.figure(figsize=(10, 6))\n",
    "plt.plot(df['f'], df['mag'], marker='o', linestyle='-')\n",
    "plt.title('PSRR')\n",
    "plt.xlabel('freq')\n",
    "plt.ylabel('mag')\n",
    "plt.grid(True)\n",
    "plt.show()"
   ]
  },
  {
   "cell_type": "markdown",
   "metadata": {},
   "source": [
    "Load Transient"
   ]
  },
  {
   "cell_type": "code",
   "execution_count": null,
   "metadata": {},
   "outputs": [],
   "source": [
    "import pandas as pd\n",
    "import matplotlib.pyplot as plt\n",
    "\n",
    "df = pd.read_csv('build/sky130_ldo/ngspice/pre_tb/loadtran.csv',\n",
    "    delim_whitespace=True,\n",
    "    header=None,\n",
    "    names=['v', 't'])\n",
    "\n",
    "plt.figure(figsize=(10, 6))\n",
    "plt.plot(df['v'], df['t'], marker='o', linestyle='-')\n",
    "plt.title('Load Transient')\n",
    "plt.xlabel('Time')\n",
    "plt.ylabel('Voltage')\n",
    "plt.grid(True)\n",
    "plt.show()"
   ]
  },
  {
   "cell_type": "markdown",
   "metadata": {},
   "source": [
    "### Post Layout Simulation"
   ]
  },
  {
   "cell_type": "markdown",
   "metadata": {},
   "source": [
    "Supply variation"
   ]
  },
  {
   "cell_type": "code",
   "execution_count": null,
   "metadata": {},
   "outputs": [],
   "source": [
    "import pandas as pd\n",
    "import matplotlib.pyplot as plt\n",
    "\n",
    "df = pd.read_csv('build/sky130_ldo/ngspice/post_tb/supplyvar.csv',\n",
    "    delim_whitespace=True,\n",
    "    header=None,\n",
    "    names=['vs', 'vdd', 'vout'])\n",
    "\n",
    "plt.figure(figsize=(10, 6))\n",
    "plt.plot(df['vout'], df['vs'], marker='o', linestyle='-')\n",
    "plt.plot(df['vdd'], df['vs'], marker='o', linestyle='-')\n",
    "plt.title('Supply variation')\n",
    "plt.xlabel('vs')\n",
    "plt.ylabel('v')\n",
    "plt.grid(True)\n",
    "plt.show()"
   ]
  },
  {
   "cell_type": "markdown",
   "metadata": {},
   "source": [
    "PSRR"
   ]
  },
  {
   "cell_type": "code",
   "execution_count": null,
   "metadata": {},
   "outputs": [],
   "source": [
    "import pandas as pd\n",
    "import matplotlib.pyplot as plt\n",
    "\n",
    "df = pd.read_csv('build/sky130_ldo/ngspice/post_tb/psrr.csv',\n",
    "    delim_whitespace=True,\n",
    "    header=None,\n",
    "    names=['f', 'mag'])\n",
    "\n",
    "plt.figure(figsize=(10, 6))\n",
    "plt.plot(df['f'], df['mag'], marker='o', linestyle='-')\n",
    "plt.title('PSRR')\n",
    "plt.xlabel('freq')\n",
    "plt.ylabel('mag')\n",
    "plt.grid(True)\n",
    "plt.show()"
   ]
  },
  {
   "cell_type": "markdown",
   "metadata": {},
   "source": [
    "Load Transient"
   ]
  },
  {
   "cell_type": "code",
   "execution_count": null,
   "metadata": {},
   "outputs": [],
   "source": [
    "import pandas as pd\n",
    "import matplotlib.pyplot as plt\n",
    "\n",
    "df = pd.read_csv('build/sky130_ldo/ngspice/post_tb/loadtran.csv',\n",
    "    delim_whitespace=True,\n",
    "    header=None,\n",
    "    names=['v', 't'])\n",
    "\n",
    "plt.figure(figsize=(10, 6))\n",
    "plt.plot(df['v'], df['t'], marker='o', linestyle='-')\n",
    "plt.title('Load Transient')\n",
    "plt.xlabel('Time')\n",
    "plt.ylabel('Voltage')\n",
    "plt.grid(True)\n",
    "plt.show()"
   ]
  },
  {
   "cell_type": "markdown",
   "metadata": {},
   "source": [
    "## 15. 3 - Level Flying Capacitor Converter\n",
    "Section work in progress"
   ]
  },
  {
   "cell_type": "markdown",
   "metadata": {},
   "source": [
    "### Generation\n",
    "The following command outputs the design files at `build/sky130_3lfcc`"
   ]
  },
  {
   "cell_type": "code",
   "execution_count": null,
   "metadata": {
    "vscode": {
     "languageId": "shellscript"
    }
   },
   "outputs": [],
   "source": [
    "!pmicgen 3lfcc --tech sky130"
   ]
  },
  {
   "cell_type": "markdown",
   "metadata": {},
   "source": [
    "## 16. PMIC"
   ]
  },
  {
   "cell_type": "markdown",
   "metadata": {},
   "source": [
    "### Generation\n",
    "The following command outputs the designs files at `build/sky130_pmic`"
   ]
  },
  {
   "cell_type": "code",
   "execution_count": null,
   "metadata": {
    "vscode": {
     "languageId": "shellscript"
    }
   },
   "outputs": [],
   "source": [
    "!pmicgen pmic --tech sky130"
   ]
  },
  {
   "cell_type": "markdown",
   "metadata": {},
   "source": [
    "## 17. References\n",
    "\n",
    "[1] Kose, Selçuk, et al. \"Active filter-based hybrid on-chip DC–DC converter for point-of-load voltage regulation.\" IEEE Transactions on Very Large Scale Integration (VLSI) Systems 21.4 (2012): 680-691.\n",
    "\n",
    "[2] Vaisband, Inna, and Eby G. Friedman. \"Heterogeneous methodology for energy efficient distribution of on-chip power supplies.\" IEEE Transactions on Power Electronics 28.9 (2012): 4267-4280.\n",
    "\n",
    "[3] Marin, Jorge, et al. \"Design and Automated Layout Generation of a PMIC Core in Skywater 130nm Open-Source Technology.\" 2024 IEEE 15th Latin America Symposium on Circuits and Systems (LASCAS). IEEE, 2024.\n",
    "\n",
    "[4] Mohamed, Karimeldeen, Sherif Nafea, and Hesham Omran. \"Design automation of low dropout voltage regulators: A general approach.\" Electronics 12.1 (2022): 205.\n",
    "\n",
    "[5] AC3E Microelectronics Team, \"Automated Generation of Power Transistors and 3LFC DC-DC Converter\", https://github.com/sscs-ose/sscs-ose-code-a-chip.github.io/blob/main/VLSI23/accepted_notebooks/3LFCC/3LFCC_v2p0.ipynb\n",
    "\n",
    "[6] Chen, Yue, et al. \"A supply pushing reduction technique for LC oscillators based on ripple replication and cancellation.\" IEEE Journal of Solid-State Circuits 54.1 (2018): 240-252.\n"
   ]
  }
 ],
 "metadata": {
  "kernelspec": {
   "display_name": "Python IC Development",
   "language": "python",
   "name": "pyicenv"
  },
  "language_info": {
   "codemirror_mode": {
    "name": "ipython",
    "version": 3
   },
   "file_extension": ".py",
   "mimetype": "text/x-python",
   "name": "python",
   "nbconvert_exporter": "python",
   "pygments_lexer": "ipython3",
   "version": "3.10.14"
  }
 },
 "nbformat": 4,
 "nbformat_minor": 4
}
